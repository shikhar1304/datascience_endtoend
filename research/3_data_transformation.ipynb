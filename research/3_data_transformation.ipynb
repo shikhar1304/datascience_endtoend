{
 "cells": [
  {
   "cell_type": "code",
   "execution_count": 1,
   "id": "c54a7875",
   "metadata": {},
   "outputs": [],
   "source": [
    "import os\n",
    "os.chdir(\"../\")"
   ]
  },
  {
   "cell_type": "code",
   "execution_count": 7,
   "id": "46be4605",
   "metadata": {},
   "outputs": [],
   "source": [
    "from dataclasses import dataclass\n",
    "from pathlib import Path\n",
    "\n",
    "\n",
    "@dataclass\n",
    "class DataTransformationConfig:\n",
    "    root_dir:Path\n",
    "    data_path:Path"
   ]
  },
  {
   "cell_type": "code",
   "execution_count": 8,
   "id": "9c039908",
   "metadata": {},
   "outputs": [],
   "source": [
    "from src.datascience.constants import *\n",
    "from src.datascience.utils.common import read_yaml,create_directories\n",
    "class ConfigurationManager:\n",
    "    def __init__(self,\n",
    "                 config_fiePath=CONFIG_FILE_PATH,\n",
    "                 params_filePath = PARAMS_FILE_PATH,\n",
    "                 schema_filePath = SCHEMA_FILE_PATH):\n",
    "        self.config = read_yaml(config_fiePath)\n",
    "        self.params = read_yaml(params_filePath)\n",
    "        self.schema = read_yaml(schema_filePath)\n",
    "\n",
    "        create_directories([self.config.artifacts_root])\n",
    "    def get_data_transformation_config(self)->DataTransformationConfig:\n",
    "        config = self.config.data_transformation\n",
    "        create_directories([config.root_dir])\n",
    "\n",
    "        data_transformation_config = DataTransformationConfig(\n",
    "            root_dir=config.root_dir,\n",
    "            data_path=config.data_path\n",
    "        )\n",
    "        return data_transformation_config"
   ]
  },
  {
   "cell_type": "code",
   "execution_count": 9,
   "id": "ad62ab6a",
   "metadata": {},
   "outputs": [],
   "source": [
    "import os\n",
    "import urllib.request as request\n",
    "import pandas as pd\n",
    "from src.datascience import logger\n",
    "import zipfile\n",
    "from sklearn.model_selection import train_test_split"
   ]
  },
  {
   "cell_type": "code",
   "execution_count": 10,
   "id": "89899caf",
   "metadata": {},
   "outputs": [],
   "source": [
    "class DataTransformation:\n",
    "    def __init__(self,config:DataTransformationConfig):\n",
    "        self.config = config\n",
    "\n",
    "    def trainTestSplit(self)->bool:\n",
    "        data = pd.read_csv(self.config.data_path)\n",
    "\n",
    "        train,test = train_test_split(data)\n",
    "        train.to_csv(os.path.join(self.config.root_dir,\"train.csv\"),index = True)\n",
    "        test.to_csv(os.path.join(self.config.root_dir,\"test.csv\"),index = True)\n",
    "\n",
    "        logger.info(\"Splited data into training and test sets\")\n",
    "        logger.info(train.shape)\n",
    "        logger.info(test.shape)\n",
    "\n",
    "        print(train.shape)\n",
    "        print(test.shape)\n"
   ]
  },
  {
   "cell_type": "code",
   "execution_count": 11,
   "id": "a3c244f0",
   "metadata": {},
   "outputs": [
    {
     "name": "stdout",
     "output_type": "stream",
     "text": [
      "[2025-07-29 12:41:22,923: INFO: common: yaml file <_io.TextIOWrapper name='config\\\\config.yaml' mode='r' encoding='UTF-8'>: loaded successfully]\n",
      "[2025-07-29 12:41:22,967: INFO: common: yaml file <_io.TextIOWrapper name='params.yaml' mode='r' encoding='UTF-8'>: loaded successfully]\n",
      "[2025-07-29 12:41:22,996: INFO: common: yaml file <_io.TextIOWrapper name='schema.yaml' mode='r' encoding='UTF-8'>: loaded successfully]\n",
      "[2025-07-29 12:41:23,003: INFO: common: created directory at: artifacts]\n",
      "[2025-07-29 12:41:23,007: INFO: common: created directory at: artifacts/data_transformation]\n",
      "[2025-07-29 12:41:23,444: INFO: 1522456456: Splited data into training and test sets]\n",
      "[2025-07-29 12:41:23,446: INFO: 1522456456: (1199, 12)]\n",
      "[2025-07-29 12:41:23,448: INFO: 1522456456: (400, 12)]\n",
      "(1199, 12)\n",
      "(400, 12)\n"
     ]
    }
   ],
   "source": [
    "try:\n",
    "    config = ConfigurationManager()\n",
    "    manager = config.get_data_transformation_config()\n",
    "    validation = DataTransformation(config=manager)\n",
    "    validation.trainTestSplit()\n",
    "except Exception as e:\n",
    "    raise e"
   ]
  },
  {
   "cell_type": "code",
   "execution_count": null,
   "id": "3c4ff996",
   "metadata": {},
   "outputs": [],
   "source": []
  }
 ],
 "metadata": {
  "kernelspec": {
   "display_name": "nvenv",
   "language": "python",
   "name": "python3"
  },
  "language_info": {
   "codemirror_mode": {
    "name": "ipython",
    "version": 3
   },
   "file_extension": ".py",
   "mimetype": "text/x-python",
   "name": "python",
   "nbconvert_exporter": "python",
   "pygments_lexer": "ipython3",
   "version": "3.10.0"
  }
 },
 "nbformat": 4,
 "nbformat_minor": 5
}
